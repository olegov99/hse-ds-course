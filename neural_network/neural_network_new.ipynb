{
  "nbformat": 4,
  "nbformat_minor": 0,
  "metadata": {
    "colab": {
      "name": "neural_network.ipynb",
      "provenance": []
    },
    "kernelspec": {
      "name": "python3",
      "display_name": "Python 3"
    }
  },
  "cells": [
    {
      "cell_type": "markdown",
      "metadata": {
        "id": "I08uyrIFa7bB"
      },
      "source": [
        "## **Препроцессинг**"
      ]
    },
    {
      "cell_type": "code",
      "metadata": {
        "id": "bwH1sXJsa03g"
      },
      "source": [
        "import numpy as np\r\n",
        "import pandas as pd"
      ],
      "execution_count": 1,
      "outputs": []
    },
    {
      "cell_type": "code",
      "metadata": {
        "id": "lttza1iXbHlh"
      },
      "source": [
        "url = \"https://raw.githubusercontent.com/olegov99/hse-ds-course/master/lab_1/online_shoppers_intention.csv\"\r\n",
        "data_raw = pd.read_csv(url)\r\n",
        "\r\n",
        "data = data_raw\r\n",
        "\r\n",
        "categorical_columns = ['Month', 'OperatingSystems', 'Browser', 'Region', 'TrafficType', 'VisitorType']\r\n",
        "for column in categorical_columns:\r\n",
        "  data[column] = data[column].astype('category')"
      ],
      "execution_count": 3,
      "outputs": []
    },
    {
      "cell_type": "code",
      "metadata": {
        "colab": {
          "base_uri": "https://localhost:8080/",
          "height": 422
        },
        "id": "RoBsh9sebf3f",
        "outputId": "64a1aafb-db64-4e0e-ccfd-486c69a3f235"
      },
      "source": [
        "data"
      ],
      "execution_count": 4,
      "outputs": [
        {
          "output_type": "execute_result",
          "data": {
            "text/html": [
              "<div>\n",
              "<style scoped>\n",
              "    .dataframe tbody tr th:only-of-type {\n",
              "        vertical-align: middle;\n",
              "    }\n",
              "\n",
              "    .dataframe tbody tr th {\n",
              "        vertical-align: top;\n",
              "    }\n",
              "\n",
              "    .dataframe thead th {\n",
              "        text-align: right;\n",
              "    }\n",
              "</style>\n",
              "<table border=\"1\" class=\"dataframe\">\n",
              "  <thead>\n",
              "    <tr style=\"text-align: right;\">\n",
              "      <th></th>\n",
              "      <th>Administrative</th>\n",
              "      <th>Administrative_Duration</th>\n",
              "      <th>Informational</th>\n",
              "      <th>Informational_Duration</th>\n",
              "      <th>ProductRelated</th>\n",
              "      <th>ProductRelated_Duration</th>\n",
              "      <th>BounceRates</th>\n",
              "      <th>ExitRates</th>\n",
              "      <th>PageValues</th>\n",
              "      <th>SpecialDay</th>\n",
              "      <th>Month</th>\n",
              "      <th>OperatingSystems</th>\n",
              "      <th>Browser</th>\n",
              "      <th>Region</th>\n",
              "      <th>TrafficType</th>\n",
              "      <th>VisitorType</th>\n",
              "      <th>Weekend</th>\n",
              "      <th>Revenue</th>\n",
              "    </tr>\n",
              "  </thead>\n",
              "  <tbody>\n",
              "    <tr>\n",
              "      <th>0</th>\n",
              "      <td>0</td>\n",
              "      <td>0.0</td>\n",
              "      <td>0</td>\n",
              "      <td>0.0</td>\n",
              "      <td>1</td>\n",
              "      <td>0.000000</td>\n",
              "      <td>0.200000</td>\n",
              "      <td>0.200000</td>\n",
              "      <td>0.000000</td>\n",
              "      <td>0.0</td>\n",
              "      <td>Feb</td>\n",
              "      <td>1</td>\n",
              "      <td>1</td>\n",
              "      <td>1</td>\n",
              "      <td>1</td>\n",
              "      <td>Returning_Visitor</td>\n",
              "      <td>False</td>\n",
              "      <td>False</td>\n",
              "    </tr>\n",
              "    <tr>\n",
              "      <th>1</th>\n",
              "      <td>0</td>\n",
              "      <td>0.0</td>\n",
              "      <td>0</td>\n",
              "      <td>0.0</td>\n",
              "      <td>2</td>\n",
              "      <td>64.000000</td>\n",
              "      <td>0.000000</td>\n",
              "      <td>0.100000</td>\n",
              "      <td>0.000000</td>\n",
              "      <td>0.0</td>\n",
              "      <td>Feb</td>\n",
              "      <td>2</td>\n",
              "      <td>2</td>\n",
              "      <td>1</td>\n",
              "      <td>2</td>\n",
              "      <td>Returning_Visitor</td>\n",
              "      <td>False</td>\n",
              "      <td>False</td>\n",
              "    </tr>\n",
              "    <tr>\n",
              "      <th>2</th>\n",
              "      <td>0</td>\n",
              "      <td>0.0</td>\n",
              "      <td>0</td>\n",
              "      <td>0.0</td>\n",
              "      <td>1</td>\n",
              "      <td>0.000000</td>\n",
              "      <td>0.200000</td>\n",
              "      <td>0.200000</td>\n",
              "      <td>0.000000</td>\n",
              "      <td>0.0</td>\n",
              "      <td>Feb</td>\n",
              "      <td>4</td>\n",
              "      <td>1</td>\n",
              "      <td>9</td>\n",
              "      <td>3</td>\n",
              "      <td>Returning_Visitor</td>\n",
              "      <td>False</td>\n",
              "      <td>False</td>\n",
              "    </tr>\n",
              "    <tr>\n",
              "      <th>3</th>\n",
              "      <td>0</td>\n",
              "      <td>0.0</td>\n",
              "      <td>0</td>\n",
              "      <td>0.0</td>\n",
              "      <td>2</td>\n",
              "      <td>2.666667</td>\n",
              "      <td>0.050000</td>\n",
              "      <td>0.140000</td>\n",
              "      <td>0.000000</td>\n",
              "      <td>0.0</td>\n",
              "      <td>Feb</td>\n",
              "      <td>3</td>\n",
              "      <td>2</td>\n",
              "      <td>2</td>\n",
              "      <td>4</td>\n",
              "      <td>Returning_Visitor</td>\n",
              "      <td>False</td>\n",
              "      <td>False</td>\n",
              "    </tr>\n",
              "    <tr>\n",
              "      <th>4</th>\n",
              "      <td>0</td>\n",
              "      <td>0.0</td>\n",
              "      <td>0</td>\n",
              "      <td>0.0</td>\n",
              "      <td>10</td>\n",
              "      <td>627.500000</td>\n",
              "      <td>0.020000</td>\n",
              "      <td>0.050000</td>\n",
              "      <td>0.000000</td>\n",
              "      <td>0.0</td>\n",
              "      <td>Feb</td>\n",
              "      <td>3</td>\n",
              "      <td>3</td>\n",
              "      <td>1</td>\n",
              "      <td>4</td>\n",
              "      <td>Returning_Visitor</td>\n",
              "      <td>True</td>\n",
              "      <td>False</td>\n",
              "    </tr>\n",
              "    <tr>\n",
              "      <th>...</th>\n",
              "      <td>...</td>\n",
              "      <td>...</td>\n",
              "      <td>...</td>\n",
              "      <td>...</td>\n",
              "      <td>...</td>\n",
              "      <td>...</td>\n",
              "      <td>...</td>\n",
              "      <td>...</td>\n",
              "      <td>...</td>\n",
              "      <td>...</td>\n",
              "      <td>...</td>\n",
              "      <td>...</td>\n",
              "      <td>...</td>\n",
              "      <td>...</td>\n",
              "      <td>...</td>\n",
              "      <td>...</td>\n",
              "      <td>...</td>\n",
              "      <td>...</td>\n",
              "    </tr>\n",
              "    <tr>\n",
              "      <th>12325</th>\n",
              "      <td>3</td>\n",
              "      <td>145.0</td>\n",
              "      <td>0</td>\n",
              "      <td>0.0</td>\n",
              "      <td>53</td>\n",
              "      <td>1783.791667</td>\n",
              "      <td>0.007143</td>\n",
              "      <td>0.029031</td>\n",
              "      <td>12.241717</td>\n",
              "      <td>0.0</td>\n",
              "      <td>Dec</td>\n",
              "      <td>4</td>\n",
              "      <td>6</td>\n",
              "      <td>1</td>\n",
              "      <td>1</td>\n",
              "      <td>Returning_Visitor</td>\n",
              "      <td>True</td>\n",
              "      <td>False</td>\n",
              "    </tr>\n",
              "    <tr>\n",
              "      <th>12326</th>\n",
              "      <td>0</td>\n",
              "      <td>0.0</td>\n",
              "      <td>0</td>\n",
              "      <td>0.0</td>\n",
              "      <td>5</td>\n",
              "      <td>465.750000</td>\n",
              "      <td>0.000000</td>\n",
              "      <td>0.021333</td>\n",
              "      <td>0.000000</td>\n",
              "      <td>0.0</td>\n",
              "      <td>Nov</td>\n",
              "      <td>3</td>\n",
              "      <td>2</td>\n",
              "      <td>1</td>\n",
              "      <td>8</td>\n",
              "      <td>Returning_Visitor</td>\n",
              "      <td>True</td>\n",
              "      <td>False</td>\n",
              "    </tr>\n",
              "    <tr>\n",
              "      <th>12327</th>\n",
              "      <td>0</td>\n",
              "      <td>0.0</td>\n",
              "      <td>0</td>\n",
              "      <td>0.0</td>\n",
              "      <td>6</td>\n",
              "      <td>184.250000</td>\n",
              "      <td>0.083333</td>\n",
              "      <td>0.086667</td>\n",
              "      <td>0.000000</td>\n",
              "      <td>0.0</td>\n",
              "      <td>Nov</td>\n",
              "      <td>3</td>\n",
              "      <td>2</td>\n",
              "      <td>1</td>\n",
              "      <td>13</td>\n",
              "      <td>Returning_Visitor</td>\n",
              "      <td>True</td>\n",
              "      <td>False</td>\n",
              "    </tr>\n",
              "    <tr>\n",
              "      <th>12328</th>\n",
              "      <td>4</td>\n",
              "      <td>75.0</td>\n",
              "      <td>0</td>\n",
              "      <td>0.0</td>\n",
              "      <td>15</td>\n",
              "      <td>346.000000</td>\n",
              "      <td>0.000000</td>\n",
              "      <td>0.021053</td>\n",
              "      <td>0.000000</td>\n",
              "      <td>0.0</td>\n",
              "      <td>Nov</td>\n",
              "      <td>2</td>\n",
              "      <td>2</td>\n",
              "      <td>3</td>\n",
              "      <td>11</td>\n",
              "      <td>Returning_Visitor</td>\n",
              "      <td>False</td>\n",
              "      <td>False</td>\n",
              "    </tr>\n",
              "    <tr>\n",
              "      <th>12329</th>\n",
              "      <td>0</td>\n",
              "      <td>0.0</td>\n",
              "      <td>0</td>\n",
              "      <td>0.0</td>\n",
              "      <td>3</td>\n",
              "      <td>21.250000</td>\n",
              "      <td>0.000000</td>\n",
              "      <td>0.066667</td>\n",
              "      <td>0.000000</td>\n",
              "      <td>0.0</td>\n",
              "      <td>Nov</td>\n",
              "      <td>3</td>\n",
              "      <td>2</td>\n",
              "      <td>1</td>\n",
              "      <td>2</td>\n",
              "      <td>New_Visitor</td>\n",
              "      <td>True</td>\n",
              "      <td>False</td>\n",
              "    </tr>\n",
              "  </tbody>\n",
              "</table>\n",
              "<p>12330 rows × 18 columns</p>\n",
              "</div>"
            ],
            "text/plain": [
              "       Administrative  Administrative_Duration  ...  Weekend  Revenue\n",
              "0                   0                      0.0  ...    False    False\n",
              "1                   0                      0.0  ...    False    False\n",
              "2                   0                      0.0  ...    False    False\n",
              "3                   0                      0.0  ...    False    False\n",
              "4                   0                      0.0  ...     True    False\n",
              "...               ...                      ...  ...      ...      ...\n",
              "12325               3                    145.0  ...     True    False\n",
              "12326               0                      0.0  ...     True    False\n",
              "12327               0                      0.0  ...     True    False\n",
              "12328               4                     75.0  ...    False    False\n",
              "12329               0                      0.0  ...     True    False\n",
              "\n",
              "[12330 rows x 18 columns]"
            ]
          },
          "metadata": {
            "tags": []
          },
          "execution_count": 4
        }
      ]
    },
    {
      "cell_type": "code",
      "metadata": {
        "colab": {
          "base_uri": "https://localhost:8080/"
        },
        "id": "bgvEEXH8bs-_",
        "outputId": "a2e897df-4d38-489f-c9d1-05407a4338a7"
      },
      "source": [
        "data.dtypes"
      ],
      "execution_count": 17,
      "outputs": [
        {
          "output_type": "execute_result",
          "data": {
            "text/plain": [
              "Administrative                int64\n",
              "Administrative_Duration     float64\n",
              "Informational                 int64\n",
              "Informational_Duration      float64\n",
              "ProductRelated                int64\n",
              "ProductRelated_Duration     float64\n",
              "BounceRates                 float64\n",
              "ExitRates                   float64\n",
              "PageValues                  float64\n",
              "SpecialDay                  float64\n",
              "Month                      category\n",
              "OperatingSystems           category\n",
              "Browser                    category\n",
              "Region                     category\n",
              "TrafficType                category\n",
              "VisitorType                category\n",
              "Weekend                        bool\n",
              "Revenue                        bool\n",
              "dtype: object"
            ]
          },
          "metadata": {
            "tags": []
          },
          "execution_count": 17
        }
      ]
    },
    {
      "cell_type": "code",
      "metadata": {
        "id": "YifK0NG6bvyQ"
      },
      "source": [
        "visitor_type_dummies = pd.get_dummies(data['VisitorType'])\r\n",
        "traffic_type_dummies = pd.get_dummies(data['TrafficType'], prefix='TrafficType')\r\n",
        "\r\n",
        "region_dummies = pd.get_dummies(data['Region'], prefix='Region')\r\n",
        "month_dummies = pd.get_dummies(data['Month'])\r\n",
        "\r\n",
        "data_final = pd.concat((data, visitor_type_dummies, traffic_type_dummies, region_dummies, month_dummies), axis=1)\r\n",
        "data_final = data_final.drop(['VisitorType', 'TrafficType', 'Region', 'Month', 'Weekend', 'OperatingSystems', 'Browser', 'ExitRates', 'ProductRelated_Duration'], axis=1)"
      ],
      "execution_count": 18,
      "outputs": []
    },
    {
      "cell_type": "code",
      "metadata": {
        "colab": {
          "base_uri": "https://localhost:8080/"
        },
        "id": "ZNjq7a2scK3p",
        "outputId": "2e2a609a-8e1a-4d99-df05-963f1d0c22d4"
      },
      "source": [
        "data_final.dtypes"
      ],
      "execution_count": 19,
      "outputs": [
        {
          "output_type": "execute_result",
          "data": {
            "text/plain": [
              "Administrative               int64\n",
              "Administrative_Duration    float64\n",
              "Informational                int64\n",
              "Informational_Duration     float64\n",
              "ProductRelated               int64\n",
              "BounceRates                float64\n",
              "PageValues                 float64\n",
              "SpecialDay                 float64\n",
              "Revenue                       bool\n",
              "New_Visitor                  uint8\n",
              "Other                        uint8\n",
              "Returning_Visitor            uint8\n",
              "TrafficType_1                uint8\n",
              "TrafficType_2                uint8\n",
              "TrafficType_3                uint8\n",
              "TrafficType_4                uint8\n",
              "TrafficType_5                uint8\n",
              "TrafficType_6                uint8\n",
              "TrafficType_7                uint8\n",
              "TrafficType_8                uint8\n",
              "TrafficType_9                uint8\n",
              "TrafficType_10               uint8\n",
              "TrafficType_11               uint8\n",
              "TrafficType_12               uint8\n",
              "TrafficType_13               uint8\n",
              "TrafficType_14               uint8\n",
              "TrafficType_15               uint8\n",
              "TrafficType_16               uint8\n",
              "TrafficType_17               uint8\n",
              "TrafficType_18               uint8\n",
              "TrafficType_19               uint8\n",
              "TrafficType_20               uint8\n",
              "Region_1                     uint8\n",
              "Region_2                     uint8\n",
              "Region_3                     uint8\n",
              "Region_4                     uint8\n",
              "Region_5                     uint8\n",
              "Region_6                     uint8\n",
              "Region_7                     uint8\n",
              "Region_8                     uint8\n",
              "Region_9                     uint8\n",
              "Aug                          uint8\n",
              "Dec                          uint8\n",
              "Feb                          uint8\n",
              "Jul                          uint8\n",
              "June                         uint8\n",
              "Mar                          uint8\n",
              "May                          uint8\n",
              "Nov                          uint8\n",
              "Oct                          uint8\n",
              "Sep                          uint8\n",
              "dtype: object"
            ]
          },
          "metadata": {
            "tags": []
          },
          "execution_count": 19
        }
      ]
    },
    {
      "cell_type": "code",
      "metadata": {
        "id": "05sFnzvjgISo"
      },
      "source": [
        "for column in ['Administrative', 'Administrative_Duration', 'Informational', 'Informational_Duration', 'ProductRelated', 'BounceRates', 'PageValues', 'SpecialDay']:\r\n",
        "    data_final[column] = (data_final[column] - data_final[column].mean())/data_final[column].std()"
      ],
      "execution_count": 20,
      "outputs": []
    },
    {
      "cell_type": "code",
      "metadata": {
        "colab": {
          "base_uri": "https://localhost:8080/",
          "height": 215
        },
        "id": "RL9LIcrFhK1d",
        "outputId": "6b2983c2-a69d-4c79-bc16-a8337c72ee9a"
      },
      "source": [
        "data_final.head()"
      ],
      "execution_count": 21,
      "outputs": [
        {
          "output_type": "execute_result",
          "data": {
            "text/html": [
              "<div>\n",
              "<style scoped>\n",
              "    .dataframe tbody tr th:only-of-type {\n",
              "        vertical-align: middle;\n",
              "    }\n",
              "\n",
              "    .dataframe tbody tr th {\n",
              "        vertical-align: top;\n",
              "    }\n",
              "\n",
              "    .dataframe thead th {\n",
              "        text-align: right;\n",
              "    }\n",
              "</style>\n",
              "<table border=\"1\" class=\"dataframe\">\n",
              "  <thead>\n",
              "    <tr style=\"text-align: right;\">\n",
              "      <th></th>\n",
              "      <th>Administrative</th>\n",
              "      <th>Administrative_Duration</th>\n",
              "      <th>Informational</th>\n",
              "      <th>Informational_Duration</th>\n",
              "      <th>ProductRelated</th>\n",
              "      <th>BounceRates</th>\n",
              "      <th>PageValues</th>\n",
              "      <th>SpecialDay</th>\n",
              "      <th>Revenue</th>\n",
              "      <th>New_Visitor</th>\n",
              "      <th>Other</th>\n",
              "      <th>Returning_Visitor</th>\n",
              "      <th>TrafficType_1</th>\n",
              "      <th>TrafficType_2</th>\n",
              "      <th>TrafficType_3</th>\n",
              "      <th>TrafficType_4</th>\n",
              "      <th>TrafficType_5</th>\n",
              "      <th>TrafficType_6</th>\n",
              "      <th>TrafficType_7</th>\n",
              "      <th>TrafficType_8</th>\n",
              "      <th>TrafficType_9</th>\n",
              "      <th>TrafficType_10</th>\n",
              "      <th>TrafficType_11</th>\n",
              "      <th>TrafficType_12</th>\n",
              "      <th>TrafficType_13</th>\n",
              "      <th>TrafficType_14</th>\n",
              "      <th>TrafficType_15</th>\n",
              "      <th>TrafficType_16</th>\n",
              "      <th>TrafficType_17</th>\n",
              "      <th>TrafficType_18</th>\n",
              "      <th>TrafficType_19</th>\n",
              "      <th>TrafficType_20</th>\n",
              "      <th>Region_1</th>\n",
              "      <th>Region_2</th>\n",
              "      <th>Region_3</th>\n",
              "      <th>Region_4</th>\n",
              "      <th>Region_5</th>\n",
              "      <th>Region_6</th>\n",
              "      <th>Region_7</th>\n",
              "      <th>Region_8</th>\n",
              "      <th>Region_9</th>\n",
              "      <th>Aug</th>\n",
              "      <th>Dec</th>\n",
              "      <th>Feb</th>\n",
              "      <th>Jul</th>\n",
              "      <th>June</th>\n",
              "      <th>Mar</th>\n",
              "      <th>May</th>\n",
              "      <th>Nov</th>\n",
              "      <th>Oct</th>\n",
              "      <th>Sep</th>\n",
              "    </tr>\n",
              "  </thead>\n",
              "  <tbody>\n",
              "    <tr>\n",
              "      <th>0</th>\n",
              "      <td>-0.696965</td>\n",
              "      <td>-0.457173</td>\n",
              "      <td>-0.396462</td>\n",
              "      <td>-0.244921</td>\n",
              "      <td>-0.690975</td>\n",
              "      <td>3.667040</td>\n",
              "      <td>-0.317165</td>\n",
              "      <td>-0.308809</td>\n",
              "      <td>False</td>\n",
              "      <td>0</td>\n",
              "      <td>0</td>\n",
              "      <td>1</td>\n",
              "      <td>1</td>\n",
              "      <td>0</td>\n",
              "      <td>0</td>\n",
              "      <td>0</td>\n",
              "      <td>0</td>\n",
              "      <td>0</td>\n",
              "      <td>0</td>\n",
              "      <td>0</td>\n",
              "      <td>0</td>\n",
              "      <td>0</td>\n",
              "      <td>0</td>\n",
              "      <td>0</td>\n",
              "      <td>0</td>\n",
              "      <td>0</td>\n",
              "      <td>0</td>\n",
              "      <td>0</td>\n",
              "      <td>0</td>\n",
              "      <td>0</td>\n",
              "      <td>0</td>\n",
              "      <td>0</td>\n",
              "      <td>1</td>\n",
              "      <td>0</td>\n",
              "      <td>0</td>\n",
              "      <td>0</td>\n",
              "      <td>0</td>\n",
              "      <td>0</td>\n",
              "      <td>0</td>\n",
              "      <td>0</td>\n",
              "      <td>0</td>\n",
              "      <td>0</td>\n",
              "      <td>0</td>\n",
              "      <td>1</td>\n",
              "      <td>0</td>\n",
              "      <td>0</td>\n",
              "      <td>0</td>\n",
              "      <td>0</td>\n",
              "      <td>0</td>\n",
              "      <td>0</td>\n",
              "      <td>0</td>\n",
              "    </tr>\n",
              "    <tr>\n",
              "      <th>1</th>\n",
              "      <td>-0.696965</td>\n",
              "      <td>-0.457173</td>\n",
              "      <td>-0.396462</td>\n",
              "      <td>-0.244921</td>\n",
              "      <td>-0.668491</td>\n",
              "      <td>-0.457664</td>\n",
              "      <td>-0.317165</td>\n",
              "      <td>-0.308809</td>\n",
              "      <td>False</td>\n",
              "      <td>0</td>\n",
              "      <td>0</td>\n",
              "      <td>1</td>\n",
              "      <td>0</td>\n",
              "      <td>1</td>\n",
              "      <td>0</td>\n",
              "      <td>0</td>\n",
              "      <td>0</td>\n",
              "      <td>0</td>\n",
              "      <td>0</td>\n",
              "      <td>0</td>\n",
              "      <td>0</td>\n",
              "      <td>0</td>\n",
              "      <td>0</td>\n",
              "      <td>0</td>\n",
              "      <td>0</td>\n",
              "      <td>0</td>\n",
              "      <td>0</td>\n",
              "      <td>0</td>\n",
              "      <td>0</td>\n",
              "      <td>0</td>\n",
              "      <td>0</td>\n",
              "      <td>0</td>\n",
              "      <td>1</td>\n",
              "      <td>0</td>\n",
              "      <td>0</td>\n",
              "      <td>0</td>\n",
              "      <td>0</td>\n",
              "      <td>0</td>\n",
              "      <td>0</td>\n",
              "      <td>0</td>\n",
              "      <td>0</td>\n",
              "      <td>0</td>\n",
              "      <td>0</td>\n",
              "      <td>1</td>\n",
              "      <td>0</td>\n",
              "      <td>0</td>\n",
              "      <td>0</td>\n",
              "      <td>0</td>\n",
              "      <td>0</td>\n",
              "      <td>0</td>\n",
              "      <td>0</td>\n",
              "    </tr>\n",
              "    <tr>\n",
              "      <th>2</th>\n",
              "      <td>-0.696965</td>\n",
              "      <td>-0.457173</td>\n",
              "      <td>-0.396462</td>\n",
              "      <td>-0.244921</td>\n",
              "      <td>-0.690975</td>\n",
              "      <td>3.667040</td>\n",
              "      <td>-0.317165</td>\n",
              "      <td>-0.308809</td>\n",
              "      <td>False</td>\n",
              "      <td>0</td>\n",
              "      <td>0</td>\n",
              "      <td>1</td>\n",
              "      <td>0</td>\n",
              "      <td>0</td>\n",
              "      <td>1</td>\n",
              "      <td>0</td>\n",
              "      <td>0</td>\n",
              "      <td>0</td>\n",
              "      <td>0</td>\n",
              "      <td>0</td>\n",
              "      <td>0</td>\n",
              "      <td>0</td>\n",
              "      <td>0</td>\n",
              "      <td>0</td>\n",
              "      <td>0</td>\n",
              "      <td>0</td>\n",
              "      <td>0</td>\n",
              "      <td>0</td>\n",
              "      <td>0</td>\n",
              "      <td>0</td>\n",
              "      <td>0</td>\n",
              "      <td>0</td>\n",
              "      <td>0</td>\n",
              "      <td>0</td>\n",
              "      <td>0</td>\n",
              "      <td>0</td>\n",
              "      <td>0</td>\n",
              "      <td>0</td>\n",
              "      <td>0</td>\n",
              "      <td>0</td>\n",
              "      <td>1</td>\n",
              "      <td>0</td>\n",
              "      <td>0</td>\n",
              "      <td>1</td>\n",
              "      <td>0</td>\n",
              "      <td>0</td>\n",
              "      <td>0</td>\n",
              "      <td>0</td>\n",
              "      <td>0</td>\n",
              "      <td>0</td>\n",
              "      <td>0</td>\n",
              "    </tr>\n",
              "    <tr>\n",
              "      <th>3</th>\n",
              "      <td>-0.696965</td>\n",
              "      <td>-0.457173</td>\n",
              "      <td>-0.396462</td>\n",
              "      <td>-0.244921</td>\n",
              "      <td>-0.668491</td>\n",
              "      <td>0.573512</td>\n",
              "      <td>-0.317165</td>\n",
              "      <td>-0.308809</td>\n",
              "      <td>False</td>\n",
              "      <td>0</td>\n",
              "      <td>0</td>\n",
              "      <td>1</td>\n",
              "      <td>0</td>\n",
              "      <td>0</td>\n",
              "      <td>0</td>\n",
              "      <td>1</td>\n",
              "      <td>0</td>\n",
              "      <td>0</td>\n",
              "      <td>0</td>\n",
              "      <td>0</td>\n",
              "      <td>0</td>\n",
              "      <td>0</td>\n",
              "      <td>0</td>\n",
              "      <td>0</td>\n",
              "      <td>0</td>\n",
              "      <td>0</td>\n",
              "      <td>0</td>\n",
              "      <td>0</td>\n",
              "      <td>0</td>\n",
              "      <td>0</td>\n",
              "      <td>0</td>\n",
              "      <td>0</td>\n",
              "      <td>0</td>\n",
              "      <td>1</td>\n",
              "      <td>0</td>\n",
              "      <td>0</td>\n",
              "      <td>0</td>\n",
              "      <td>0</td>\n",
              "      <td>0</td>\n",
              "      <td>0</td>\n",
              "      <td>0</td>\n",
              "      <td>0</td>\n",
              "      <td>0</td>\n",
              "      <td>1</td>\n",
              "      <td>0</td>\n",
              "      <td>0</td>\n",
              "      <td>0</td>\n",
              "      <td>0</td>\n",
              "      <td>0</td>\n",
              "      <td>0</td>\n",
              "      <td>0</td>\n",
              "    </tr>\n",
              "    <tr>\n",
              "      <th>4</th>\n",
              "      <td>-0.696965</td>\n",
              "      <td>-0.457173</td>\n",
              "      <td>-0.396462</td>\n",
              "      <td>-0.244921</td>\n",
              "      <td>-0.488617</td>\n",
              "      <td>-0.045194</td>\n",
              "      <td>-0.317165</td>\n",
              "      <td>-0.308809</td>\n",
              "      <td>False</td>\n",
              "      <td>0</td>\n",
              "      <td>0</td>\n",
              "      <td>1</td>\n",
              "      <td>0</td>\n",
              "      <td>0</td>\n",
              "      <td>0</td>\n",
              "      <td>1</td>\n",
              "      <td>0</td>\n",
              "      <td>0</td>\n",
              "      <td>0</td>\n",
              "      <td>0</td>\n",
              "      <td>0</td>\n",
              "      <td>0</td>\n",
              "      <td>0</td>\n",
              "      <td>0</td>\n",
              "      <td>0</td>\n",
              "      <td>0</td>\n",
              "      <td>0</td>\n",
              "      <td>0</td>\n",
              "      <td>0</td>\n",
              "      <td>0</td>\n",
              "      <td>0</td>\n",
              "      <td>0</td>\n",
              "      <td>1</td>\n",
              "      <td>0</td>\n",
              "      <td>0</td>\n",
              "      <td>0</td>\n",
              "      <td>0</td>\n",
              "      <td>0</td>\n",
              "      <td>0</td>\n",
              "      <td>0</td>\n",
              "      <td>0</td>\n",
              "      <td>0</td>\n",
              "      <td>0</td>\n",
              "      <td>1</td>\n",
              "      <td>0</td>\n",
              "      <td>0</td>\n",
              "      <td>0</td>\n",
              "      <td>0</td>\n",
              "      <td>0</td>\n",
              "      <td>0</td>\n",
              "      <td>0</td>\n",
              "    </tr>\n",
              "  </tbody>\n",
              "</table>\n",
              "</div>"
            ],
            "text/plain": [
              "   Administrative  Administrative_Duration  Informational  ...  Nov  Oct  Sep\n",
              "0       -0.696965                -0.457173      -0.396462  ...    0    0    0\n",
              "1       -0.696965                -0.457173      -0.396462  ...    0    0    0\n",
              "2       -0.696965                -0.457173      -0.396462  ...    0    0    0\n",
              "3       -0.696965                -0.457173      -0.396462  ...    0    0    0\n",
              "4       -0.696965                -0.457173      -0.396462  ...    0    0    0\n",
              "\n",
              "[5 rows x 51 columns]"
            ]
          },
          "metadata": {
            "tags": []
          },
          "execution_count": 21
        }
      ]
    },
    {
      "cell_type": "markdown",
      "metadata": {
        "id": "-eoHiulDf1YG"
      },
      "source": [
        "## **Отбор признаков**"
      ]
    },
    {
      "cell_type": "code",
      "metadata": {
        "id": "uvRHw87DcPeT"
      },
      "source": [
        "from sklearn.model_selection import train_test_split\r\n",
        "\r\n",
        "X = data_final.drop(['Revenue'], axis=1)\r\n",
        "y = data_final['Revenue']\r\n",
        "\r\n",
        "X_train, X_test, y_train, y_test = train_test_split(X, y, test_size = 0.25, random_state = 42)"
      ],
      "execution_count": 23,
      "outputs": []
    },
    {
      "cell_type": "markdown",
      "metadata": {
        "id": "DyUQ6AuGjkxd"
      },
      "source": [
        "## **Neural Network**"
      ]
    },
    {
      "cell_type": "code",
      "metadata": {
        "id": "qH77m2Sgzv9R"
      },
      "source": [
        "import tensorflow as tf\r\n",
        "from tensorflow import keras\r\n",
        "from tensorflow.keras import Sequential\r\n",
        "from tensorflow.keras.layers import Input, Dense, BatchNormalization, Activation, Dropout\r\n",
        "from sklearn.metrics import confusion_matrix, precision_score, recall_score, f1_score, accuracy_score"
      ],
      "execution_count": 65,
      "outputs": []
    },
    {
      "cell_type": "code",
      "metadata": {
        "id": "UW9LP5muCAIJ"
      },
      "source": [
        "model = Sequential([\r\n",
        "    Input(shape=(X_test.shape[1], )),\r\n",
        "    Dense(2, activation=tf.nn.softmax)\r\n",
        "])"
      ],
      "execution_count": 95,
      "outputs": []
    },
    {
      "cell_type": "code",
      "metadata": {
        "id": "DtbQVCotDS-4"
      },
      "source": [
        "model.compile(optimizer=tf.keras.optimizers.RMSprop(learning_rate=0.001), \r\n",
        "              loss='sparse_categorical_crossentropy',\r\n",
        "              metrics=['accuracy'])"
      ],
      "execution_count": 96,
      "outputs": []
    },
    {
      "cell_type": "code",
      "metadata": {
        "colab": {
          "base_uri": "https://localhost:8080/"
        },
        "id": "ROF7hbqoDfwA",
        "outputId": "3e80372e-748e-4016-ed7e-b8fa825a2363"
      },
      "source": [
        "model.fit(X_train, y_train, epochs=10)"
      ],
      "execution_count": 97,
      "outputs": [
        {
          "output_type": "stream",
          "text": [
            "Epoch 1/10\n",
            "289/289 [==============================] - 1s 979us/step - loss: 0.8406 - accuracy: 0.4904\n",
            "Epoch 2/10\n",
            "289/289 [==============================] - 0s 987us/step - loss: 0.3783 - accuracy: 0.8486\n",
            "Epoch 3/10\n",
            "289/289 [==============================] - 0s 974us/step - loss: 0.3141 - accuracy: 0.8717\n",
            "Epoch 4/10\n",
            "289/289 [==============================] - 0s 978us/step - loss: 0.2952 - accuracy: 0.8802\n",
            "Epoch 5/10\n",
            "289/289 [==============================] - 0s 959us/step - loss: 0.2966 - accuracy: 0.8772\n",
            "Epoch 6/10\n",
            "289/289 [==============================] - 0s 955us/step - loss: 0.2946 - accuracy: 0.8848\n",
            "Epoch 7/10\n",
            "289/289 [==============================] - 0s 974us/step - loss: 0.3033 - accuracy: 0.8807\n",
            "Epoch 8/10\n",
            "289/289 [==============================] - 0s 999us/step - loss: 0.2925 - accuracy: 0.8860\n",
            "Epoch 9/10\n",
            "289/289 [==============================] - 0s 999us/step - loss: 0.2954 - accuracy: 0.8802\n",
            "Epoch 10/10\n",
            "289/289 [==============================] - 0s 989us/step - loss: 0.2874 - accuracy: 0.8883\n"
          ],
          "name": "stdout"
        },
        {
          "output_type": "execute_result",
          "data": {
            "text/plain": [
              "<tensorflow.python.keras.callbacks.History at 0x7f3caa68f6d8>"
            ]
          },
          "metadata": {
            "tags": []
          },
          "execution_count": 97
        }
      ]
    },
    {
      "cell_type": "code",
      "metadata": {
        "colab": {
          "base_uri": "https://localhost:8080/"
        },
        "id": "Vc_TCTDbDm2W",
        "outputId": "2013c1a9-3532-464e-bdd3-49c7e772fd31"
      },
      "source": [
        "test_loss, test_acc = model.evaluate(X_test, y_test)\r\n",
        "print('Test accuracy:', test_acc, '\\nTest loss:', test_loss)"
      ],
      "execution_count": 98,
      "outputs": [
        {
          "output_type": "stream",
          "text": [
            "97/97 [==============================] - 0s 877us/step - loss: 0.3007 - accuracy: 0.8774\n",
            "Test accuracy: 0.8773921728134155 \n",
            "Test loss: 0.30069735646247864\n"
          ],
          "name": "stdout"
        }
      ]
    },
    {
      "cell_type": "code",
      "metadata": {
        "id": "23KWQftFEA_M"
      },
      "source": [
        "model = Sequential(\r\n",
        "    [\r\n",
        "        Input(shape=(X_train.shape[1], )),\r\n",
        "        Dense(100),\r\n",
        "        Activation('relu'),\r\n",
        "        Dense(2, activation='softmax')\r\n",
        "    ]\r\n",
        ")\r\n",
        "model.compile(optimizer=keras.optimizers.RMSprop(learning_rate=0.001), \r\n",
        "              loss='sparse_categorical_crossentropy',\r\n",
        "              metrics=['accuracy'])"
      ],
      "execution_count": 109,
      "outputs": []
    },
    {
      "cell_type": "code",
      "metadata": {
        "colab": {
          "base_uri": "https://localhost:8080/"
        },
        "id": "1KgAzdiRElMl",
        "outputId": "a4462a89-ead1-4eaa-a6ba-e0ef9d25482a"
      },
      "source": [
        "model.fit(X_train, y_train, epochs=10)"
      ],
      "execution_count": 110,
      "outputs": [
        {
          "output_type": "stream",
          "text": [
            "Epoch 1/10\n",
            "289/289 [==============================] - 1s 1ms/step - loss: 0.3835 - accuracy: 0.8283\n",
            "Epoch 2/10\n",
            "289/289 [==============================] - 0s 1ms/step - loss: 0.2506 - accuracy: 0.8985\n",
            "Epoch 3/10\n",
            "289/289 [==============================] - 0s 1ms/step - loss: 0.2450 - accuracy: 0.8985\n",
            "Epoch 4/10\n",
            "289/289 [==============================] - 0s 1ms/step - loss: 0.2366 - accuracy: 0.9011\n",
            "Epoch 5/10\n",
            "289/289 [==============================] - 0s 1ms/step - loss: 0.2312 - accuracy: 0.9051\n",
            "Epoch 6/10\n",
            "289/289 [==============================] - 0s 1ms/step - loss: 0.2364 - accuracy: 0.9028\n",
            "Epoch 7/10\n",
            "289/289 [==============================] - 0s 1ms/step - loss: 0.2343 - accuracy: 0.8998\n",
            "Epoch 8/10\n",
            "289/289 [==============================] - 0s 1ms/step - loss: 0.2247 - accuracy: 0.9100\n",
            "Epoch 9/10\n",
            "289/289 [==============================] - 0s 1ms/step - loss: 0.2289 - accuracy: 0.9065\n",
            "Epoch 10/10\n",
            "289/289 [==============================] - 0s 1ms/step - loss: 0.2193 - accuracy: 0.9113\n"
          ],
          "name": "stdout"
        },
        {
          "output_type": "execute_result",
          "data": {
            "text/plain": [
              "<tensorflow.python.keras.callbacks.History at 0x7f3cafca9358>"
            ]
          },
          "metadata": {
            "tags": []
          },
          "execution_count": 110
        }
      ]
    },
    {
      "cell_type": "code",
      "metadata": {
        "colab": {
          "base_uri": "https://localhost:8080/"
        },
        "id": "sFuBhDERhI3m",
        "outputId": "2795b135-8dda-4e1d-a0a3-dc868232fe15"
      },
      "source": [
        "test_loss, test_acc = model.evaluate(X_test, y_test)\r\n",
        "print('\\nTest accuracy:', test_acc, '\\nTest loss:', test_loss, '\\n')"
      ],
      "execution_count": 111,
      "outputs": [
        {
          "output_type": "stream",
          "text": [
            "97/97 [==============================] - 0s 898us/step - loss: 0.2498 - accuracy: 0.8965\n",
            "\n",
            "Test accuracy: 0.8965293765068054 \n",
            "Test loss: 0.24982014298439026 \n",
            "\n"
          ],
          "name": "stdout"
        }
      ]
    },
    {
      "cell_type": "code",
      "metadata": {
        "colab": {
          "base_uri": "https://localhost:8080/"
        },
        "id": "fbvqvbawEtxn",
        "outputId": "74921150-63f5-4675-9f8b-a83be7dff9bc"
      },
      "source": [
        "%%time\r\n",
        "n_neurons = [10, 25, 50, 100, 150, 200, 250, 300]\r\n",
        "train_err = []\r\n",
        "test_err = []\r\n",
        "\r\n",
        "for n in n_neurons:\r\n",
        "\r\n",
        "  model = Sequential(\r\n",
        "      [\r\n",
        "          Input(shape=(X_train.shape[1], )),\r\n",
        "          Dense(n),\r\n",
        "          Activation('relu'),\r\n",
        "          Dropout(0.1),\r\n",
        "          Dense(2, activation='softmax')\r\n",
        "      ]\r\n",
        "  )\r\n",
        "  model.compile(optimizer=tf.keras.optimizers.RMSprop(learning_rate=0.001), \r\n",
        "                     loss='sparse_categorical_crossentropy',\r\n",
        "                     metrics=['accuracy'])\r\n",
        "  model.fit(X_train, y_train, epochs=10, verbose=0)\r\n",
        "  train_loss, _ = model.evaluate(X_train, y_train, verbose=0)\r\n",
        "  test_loss, _ = model.evaluate(X_test, y_test, verbose=0)\r\n",
        "  train_err.append(train_loss)\r\n",
        "  test_err.append(test_loss)"
      ],
      "execution_count": 112,
      "outputs": [
        {
          "output_type": "stream",
          "text": [
            "CPU times: user 39 s, sys: 2.14 s, total: 41.1 s\n",
            "Wall time: 29.7 s\n"
          ],
          "name": "stdout"
        }
      ]
    },
    {
      "cell_type": "code",
      "metadata": {
        "colab": {
          "base_uri": "https://localhost:8080/",
          "height": 513
        },
        "id": "y3xzMTvzFH2V",
        "outputId": "d40583c4-b152-48bc-d08f-e75a6e87f6ee"
      },
      "source": [
        "plt.figure(figsize=(12,8))\r\n",
        "plt.plot(n_neurons, train_err, '-o', label = 'train')\r\n",
        "plt.plot(n_neurons, test_err, '-o', label = 'test')\r\n",
        "plt.title('Error vs. number of neurons in hidden layer')\r\n",
        "plt.xlabel('n_neurons')\r\n",
        "plt.ylabel('error')\r\n",
        "plt.legend()\r\n",
        "pass\r\n"
      ],
      "execution_count": 113,
      "outputs": [
        {
          "output_type": "display_data",
          "data": {
            "image/png": "[encoded data removed]",
            "text/plain": [
              "<Figure size 864x576 with 1 Axes>"
            ]
          },
          "metadata": {
            "tags": [],
            "needs_background": "light"
          }
        }
      ]
    },
    {
      "cell_type": "code",
      "metadata": {
        "colab": {
          "base_uri": "https://localhost:8080/"
        },
        "id": "cmRcDwP3FIHa",
        "outputId": "bd57e47b-8bfb-46ad-e4cc-91ba0986fa4f"
      },
      "source": [
        "%%time\r\n",
        "alpha_arr = [0.0001, 0.0005, 0.001, 0.005, 0.01, 0.05, 0.1, 0.5, 1.0]\r\n",
        "train_err = []\r\n",
        "test_err = []\r\n",
        "\r\n",
        "for alpha in alpha_arr:\r\n",
        "\r\n",
        "  model = Sequential(\r\n",
        "      [\r\n",
        "          Input(shape=(X_train.shape[1], )),\r\n",
        "          Dense(100),\r\n",
        "          Activation('relu'),\r\n",
        "          Dropout(0.1),\r\n",
        "          Dense(2, activation='softmax')\r\n",
        "      ]\r\n",
        "  )\r\n",
        "  model.compile(optimizer=tf.keras.optimizers.RMSprop(learning_rate=alpha), \r\n",
        "                loss='sparse_categorical_crossentropy',\r\n",
        "                metrics=['accuracy'])\r\n",
        "  model.fit(X_train, y_train, epochs=10, verbose=0)\r\n",
        "  train_loss, _ = model.evaluate(X_train, y_train, verbose=0)\r\n",
        "  test_loss, _ = model.evaluate(X_test, y_test, verbose=0)\r\n",
        "  train_err.append(train_loss)\r\n",
        "  test_err.append(test_loss)"
      ],
      "execution_count": 114,
      "outputs": [
        {
          "output_type": "stream",
          "text": [
            "CPU times: user 42.2 s, sys: 2.42 s, total: 44.7 s\n",
            "Wall time: 32.7 s\n"
          ],
          "name": "stdout"
        }
      ]
    },
    {
      "cell_type": "code",
      "metadata": {
        "colab": {
          "base_uri": "https://localhost:8080/",
          "height": 513
        },
        "id": "MtAl5Ce_JlwD",
        "outputId": "699e68c1-acd6-4452-ef6f-ae63c1c0f211"
      },
      "source": [
        "plt.figure(figsize=(12,8))\r\n",
        "plt.plot(alpha_arr[:-3], train_err[:-3], '-o', label = 'train')\r\n",
        "plt.plot(alpha_arr[:-3], test_err[:-3], '-o', label = 'test')\r\n",
        "plt.title('Error vs. alpha')\r\n",
        "plt.xlabel('alpha')\r\n",
        "plt.ylabel('error')\r\n",
        "plt.legend()\r\n",
        "pass"
      ],
      "execution_count": 115,
      "outputs": [
        {
          "output_type": "display_data",
          "data": {
            "image/png": "[encoded data removed]",
            "text/plain": [
              "<Figure size 864x576 with 1 Axes>"
            ]
          },
          "metadata": {
            "tags": [],
            "needs_background": "light"
          }
        }
      ]
    },
    {
      "cell_type": "code",
      "metadata": {
        "colab": {
          "base_uri": "https://localhost:8080/"
        },
        "id": "1xqsrkodKyuL",
        "outputId": "4074452e-9be2-420f-b191-dd0a0b9039af"
      },
      "source": [
        "model = Sequential(\r\n",
        "    [\r\n",
        "        Input(shape=(X_train.shape[1], )),\r\n",
        "        Dense(100),\r\n",
        "        Activation('relu'),\r\n",
        "        Dropout(0.1),\r\n",
        "        Dense(2, activation='softmax')\r\n",
        "    ]\r\n",
        ")\r\n",
        "model.compile(optimizer=tf.keras.optimizers.RMSprop(learning_rate=0.0005), \r\n",
        "              loss='sparse_categorical_crossentropy',\r\n",
        "              metrics=['accuracy'])\r\n",
        "model.fit(X_train, y_train, epochs=10, verbose=0)\r\n",
        "\r\n",
        "test_loss, test_acc = model.evaluate(X_test, y_test)\r\n",
        "print('\\nTest accuracy:', test_acc, '\\nTest loss:', test_loss, '\\n')"
      ],
      "execution_count": 116,
      "outputs": [
        {
          "output_type": "stream",
          "text": [
            "97/97 [==============================] - 0s 978us/step - loss: 0.2524 - accuracy: 0.8926\n",
            "\n",
            "Test accuracy: 0.8926370143890381 \n",
            "Test loss: 0.2524290382862091 \n",
            "\n"
          ],
          "name": "stdout"
        }
      ]
    },
    {
      "cell_type": "code",
      "metadata": {
        "colab": {
          "base_uri": "https://localhost:8080/"
        },
        "id": "e2g0d-k_LHFK",
        "outputId": "0c92c77d-3282-45d2-c1b5-1cce9ce433e3"
      },
      "source": [
        "pred_labels_train = model.predict(X_train)\r\n",
        "pred_labels_train = np.argmax(pred_labels_train, axis=1)\r\n",
        "\r\n",
        "precision = precision_score(y_train, pred_labels_train, average='weighted')\r\n",
        "recall    = recall_score(y_train, pred_labels_train, average='weighted')\r\n",
        "f1        = f1_score(y_train, pred_labels_train, average='weighted')\r\n",
        "\r\n",
        "print(\"On Train:\\nPrecision {}\\nRecall {}\\nF1-score {}\\n\".format(precision, recall, f1))"
      ],
      "execution_count": 117,
      "outputs": [
        {
          "output_type": "stream",
          "text": [
            "On Train:\n",
            "Precision 0.8968206652653945\n",
            "Recall 0.9036444252189899\n",
            "F1-score 0.8976312872815333\n",
            "\n"
          ],
          "name": "stdout"
        }
      ]
    },
    {
      "cell_type": "code",
      "metadata": {
        "colab": {
          "base_uri": "https://localhost:8080/"
        },
        "id": "k5-jKnoYLbJv",
        "outputId": "da714597-0721-447c-d766-09a93a11e449"
      },
      "source": [
        "pred_labels_test = model.predict(X_test)\r\n",
        "pred_labels_test = np.argmax(pred_labels_test, axis=1)\r\n",
        "\r\n",
        "precision = precision_score(y_test, pred_labels_test, average='weighted')\r\n",
        "recall    = recall_score(y_test, pred_labels_test, average='weighted')\r\n",
        "f1        = f1_score(y_test, pred_labels_test, average='weighted')\r\n",
        "\r\n",
        "print(\"On Test:\\nPrecision {}\\nRecall {}\\nF1-score {}\\n\".format(precision, recall, f1))"
      ],
      "execution_count": 118,
      "outputs": [
        {
          "output_type": "stream",
          "text": [
            "On Test:\n",
            "Precision 0.883968123637345\n",
            "Recall 0.8926370418423614\n",
            "F1-score 0.8846201736659368\n",
            "\n"
          ],
          "name": "stdout"
        }
      ]
    },
    {
      "cell_type": "code",
      "metadata": {
        "id": "pzW5mMF5MAOT"
      },
      "source": [
        ""
      ],
      "execution_count": null,
      "outputs": []
    }
  ]
}